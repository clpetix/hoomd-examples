{
 "cells": [
  {
   "cell_type": "markdown",
   "id": "0",
   "metadata": {
    "editable": true,
    "slideshow": {
     "slide_type": ""
    },
    "tags": []
   },
   "source": [
    "# Wall geometries\n",
    "\n",
    "## Overview\n",
    "\n",
    "### Questions\n",
    "\n",
    "* How can I define smooth wall surfaces?\n",
    "\n",
    "### Objectives\n",
    "\n",
    "* Show how to create **wall geometries**.\n",
    "* Explain that wall geometries are **surfaces**.\n",
    "    \n",
    "## Boilerplate code"
   ]
  },
  {
   "cell_type": "code",
   "execution_count": 1,
   "id": "1",
   "metadata": {},
   "outputs": [],
   "source": [
    "import hoomd"
   ]
  },
  {
   "cell_type": "markdown",
   "id": "2",
   "metadata": {
    "editable": true,
    "slideshow": {
     "slide_type": ""
    },
    "tags": []
   },
   "source": [
    "## Sphere, cylinder, and planar walls\n",
    "\n",
    "The previous section of this tutorial showed how to place particles to form barriers. You can use this technique to place arbitrarily shaped barriers with rough surfaces. To define a smooth surface, use one or more of the **wall geometry** classes: `Sphere`, `Cylinder`, and/or `Plane`.\n",
    "\n",
    "Each of these classes describes a two dimensional **surface** in a three dimensional space. Each surface separates the space into two regions: One where particles are expected (described by a positive signed distance to the surface) and one where particles are not (described by a negative signed distance). \n",
    "\n",
    "As described in [Barriers](01-Barriers.ipynb), the **particles** are always wrapped into the primary simulation box image. Thus, **particles** will interact _only_ with the portions of the wall geometries that lie in (or just outside) the primary box image."
   ]
  },
  {
   "cell_type": "markdown",
   "id": "3",
   "metadata": {
    "editable": true,
    "slideshow": {
     "slide_type": ""
    },
    "tags": []
   },
   "source": [
    "### Sphere wall geometry\n",
    "\n",
    "The `Sphere` **wall geometry** defines a spherical surface. You can place a `Sphere` wall where particles are expected on the inside of the sphere:"
   ]
  },
  {
   "cell_type": "code",
   "execution_count": 2,
   "id": "4",
   "metadata": {},
   "outputs": [],
   "source": [
    "sphere = hoomd.wall.Sphere(radius=10, inside=True)"
   ]
  },
  {
   "cell_type": "markdown",
   "id": "5",
   "metadata": {},
   "source": [
    "or on the outside:"
   ]
  },
  {
   "cell_type": "code",
   "execution_count": 3,
   "id": "6",
   "metadata": {},
   "outputs": [],
   "source": [
    "sphere = hoomd.wall.Sphere(radius=5, inside=False)"
   ]
  },
  {
   "cell_type": "markdown",
   "id": "7",
   "metadata": {
    "editable": true,
    "slideshow": {
     "slide_type": ""
    },
    "tags": []
   },
   "source": [
    "### Cylinder wall geometry\n",
    "\n",
    "The `Cylinder` **wall geometry** defines the surface of an infinite right circular cylinder along a given axis. Typically, you should align the cylinder to the x, y, or z axis to match the periodic boundary conditions:"
   ]
  },
  {
   "cell_type": "code",
   "execution_count": 4,
   "id": "8",
   "metadata": {},
   "outputs": [],
   "source": [
    "cylinder = hoomd.wall.Cylinder(radius=10, axis=(0, 0, 1), inside=True)"
   ]
  },
  {
   "cell_type": "markdown",
   "id": "9",
   "metadata": {},
   "source": [
    "As with spheres, you can also place a `Cylinder` where particles are expected on the outside:"
   ]
  },
  {
   "cell_type": "code",
   "execution_count": 5,
   "id": "10",
   "metadata": {},
   "outputs": [],
   "source": [
    "cylinder = hoomd.wall.Cylinder(radius=10, axis=(1, 0, 0), inside=False)"
   ]
  },
  {
   "cell_type": "markdown",
   "id": "11",
   "metadata": {
    "editable": true,
    "slideshow": {
     "slide_type": ""
    },
    "tags": []
   },
   "source": [
    "### Plane wall geometry\n",
    "\n",
    "The `Plane` wall geometry defines an infinite plane. The normal vector points _toward_ the region where the particles are expected:"
   ]
  },
  {
   "cell_type": "code",
   "execution_count": 6,
   "id": "12",
   "metadata": {},
   "outputs": [],
   "source": [
    "plane = hoomd.wall.Plane(origin=(0, 0, 0), normal=(0, 1, 0))"
   ]
  },
  {
   "cell_type": "markdown",
   "id": "13",
   "metadata": {
    "editable": true,
    "slideshow": {
     "slide_type": ""
    },
    "tags": []
   },
   "source": [
    "## Box size scaling\n",
    "\n",
    "**Wall geometries** are surfaces defined by the given parameters. They are not part of the system state and are not defined in proportion to the simulation box. No operations in HOOMD-blue scale or move **wall geometries**. For example, `BoxResize` will scale the **periodic box** and the **particle** positions but leave all **wall geometries** fixed with the parameters you defined. When needed, you should provide code that changes the parameters of your **wall geometries**."
   ]
  },
  {
   "cell_type": "markdown",
   "id": "14",
   "metadata": {
    "editable": true,
    "slideshow": {
     "slide_type": ""
    },
    "tags": []
   },
   "source": [
    "## Conclusion\n",
    "\n",
    "This tutorial gave examples of several **wall geometries**. The next two sections will demonstrate using these to confine particles in **MD** and **HPMC** simulations."
   ]
  }
 ],
 "metadata": {
  "language_info": {
   "codemirror_mode": {
    "name": "ipython",
    "version": 3
   },
   "file_extension": ".py",
   "mimetype": "text/x-python",
   "name": "python",
   "nbconvert_exporter": "python",
   "pygments_lexer": "ipython3",
   "version": "3.11.7"
  }
 },
 "nbformat": 4,
 "nbformat_minor": 5
}
