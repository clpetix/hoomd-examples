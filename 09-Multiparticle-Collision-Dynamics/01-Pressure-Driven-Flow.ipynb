{
 "cells": [
  {
   "cell_type": "markdown",
   "id": "f4b52f70-46a3-4a56-ae72-1e16b227537d",
   "metadata": {},
   "source": [
    "# Pressure-Driven Flow Between Parallel Plates"
   ]
  },
  {
   "cell_type": "markdown",
   "id": "c47cdb63-0252-436d-9da9-56a2b9efe9b2",
   "metadata": {},
   "source": [
    "## Overview"
   ]
  },
  {
   "cell_type": "markdown",
   "id": "d1a5606e-6a27-4a9c-bf1d-32a4501fcb08",
   "metadata": {},
   "source": [
    "### Questions"
   ]
  },
  {
   "cell_type": "markdown",
   "id": "ba88d5ec-6d61-4da8-862e-f3d5ab36e54b",
   "metadata": {},
   "source": [
    "* What is multiparticle collision dynamics (MPCD)?\n",
    "* How do I set up a pressure-driven flow simulation using MPCD?"
   ]
  },
  {
   "cell_type": "markdown",
   "id": "07d445cd-c1f7-4593-a686-d578b1e1cba7",
   "metadata": {},
   "source": [
    "### Objectives"
   ]
  },
  {
   "cell_type": "markdown",
   "id": "64823635-9fbf-4413-a219-0c1fcc980842",
   "metadata": {},
   "source": [
    "* Demonstrate how to initialize MPCD particles using a **Snapshot**.\n",
    "* Explain how to configure the MPCD **Integrator** with a **StreamingMethod**\n",
    "  and **CollisionMethod**.\n",
    "* Show how to include a confining **Geometry** in both the streaming and\n",
    "  collision steps.\n",
    "* Show how to apply a **BodyForce** to MPCD particles.\n",
    "* Demonstrate how to run a simulation and gather data."
   ]
  },
  {
   "cell_type": "markdown",
   "id": "683d4d66-a39c-4e6b-9d6f-6879731f84de",
   "metadata": {},
   "source": [
    "## Boilerplate code"
   ]
  },
  {
   "cell_type": "code",
   "execution_count": 2,
   "id": "b806e39a-7373-488b-aab1-8f580e19d4a9",
   "metadata": {},
   "outputs": [],
   "source": [
    "import hoomd\n",
    "import numpy\n",
    "import matplotlib.pyplot as plt"
   ]
  },
  {
   "cell_type": "markdown",
   "id": "d0464974-7771-4180-b6fb-b5fedb5ee154",
   "metadata": {},
   "source": [
    "## Initialization"
   ]
  },
  {
   "cell_type": "markdown",
   "id": "77e0fb7b-452f-4c90-b073-aeb6ff5851ad",
   "metadata": {},
   "source": [
    "MPCD particles are currently initialized using a `Snapshot`. We will place the\n",
    "particles between two parallel plates. The parallel plates have a surface normal\n",
    "in the *y* direction, and we have chosen the separation distance between them as\n",
    "$2 H = 20$. The plates are infinite in the *x* and *z* directions, so\n",
    "periodic boundaries will be used in these directions. We choose the extent in\n",
    "the periodic directions to be $L = 25$.\n",
    "\n",
    "The simulation box needs padded in the *y* direction to account for the\n",
    "collision cells wrapping through the *y* periodic boundary. A padding of 4\n",
    "cells (2 each direction) should be sufficient."
   ]
  },
  {
   "cell_type": "code",
   "execution_count": 3,
   "id": "abcd99b2-2965-41fa-9803-f79c1b991818",
   "metadata": {},
   "outputs": [],
   "source": [
    "H = 10\n",
    "L = 25\n",
    "padding = 4\n",
    "snapshot = hoomd.Snapshot()\n",
    "snapshot.configuration.box = [L, 2*H + padding, L, 0, 0, 0]"
   ]
  },
  {
   "cell_type": "markdown",
   "id": "6cf4ca29-2ad2-4de2-b826-5c5850f7a20a",
   "metadata": {},
   "source": [
    "The MPCD particle positions will be randomly drawn between the parallel plates\n",
    "at a target number density $\\rho = 5$. All particles will use the default\n",
    "typeid (0), which we will call \"A\", and default mass (1). The number of\n",
    "particles *N* can be computed using the density, $N = \\rho V$ where $V = 2 H\n",
    "L^2$ is the volume between the parallel plates."
   ]
  },
  {
   "cell_type": "code",
   "execution_count": 4,
   "id": "8c44d490-84ad-40d8-ba35-3cc52473f18f",
   "metadata": {},
   "outputs": [],
   "source": [
    "density = 5\n",
    "rng = numpy.random.default_rng(seed=42)\n",
    "\n",
    "snapshot.mpcd.types = [\"A\"]\n",
    "snapshot.mpcd.N = int(density * (2*H) * L**2)\n",
    "snapshot.mpcd.position[:] = [0.5*L, H, 0.5*L] * rng.uniform(\n",
    "    low=-1, high=1, size=(snapshot.mpcd.N, 3))"
   ]
  },
  {
   "cell_type": "markdown",
   "id": "1e80cfb5-5ed5-4d06-a33c-cedcc889ecdc",
   "metadata": {},
   "source": [
    "The particle velocities also need to be initialized for the thermostat to work\n",
    "properly with the stochastic rotation dynamics (SRD) collision rule (see below).\n",
    "We randomly draw them to be consistent with the Maxwell-Boltzmann distribution\n",
    "for $k_{\\rm B} T = 1$ and unit mass, and we force them to have zero mean."
   ]
  },
  {
   "cell_type": "code",
   "execution_count": 5,
   "id": "1601a094-1d6d-4720-b447-8e32d6fe69e8",
   "metadata": {},
   "outputs": [],
   "source": [
    "kT = 1 \n",
    "velocity = rng.normal(0.0, numpy.sqrt(kT), (snapshot.mpcd.N, 3))\n",
    "velocity -= numpy.mean(velocity, axis=0)\n",
    "snapshot.mpcd.velocity[:] = velocity"
   ]
  },
  {
   "cell_type": "markdown",
   "id": "b84d3f21-ed6a-49bc-889d-0084da5ae22e",
   "metadata": {},
   "source": [
    "The `Snapshot` is now fully initialized, so we can use it to create a `Simulation`.\n",
    "Note that this works even though there are no regular HOOMD particles in the\n",
    "snapshot."
   ]
  },
  {
   "cell_type": "code",
   "execution_count": 6,
   "id": "9286ca8d-f219-4f2f-be50-fecfc32fa02a",
   "metadata": {},
   "outputs": [],
   "source": [
    "simulation = hoomd.Simulation(device=hoomd.device.CPU(), seed=1)\n",
    "simulation.create_state_from_snapshot(snapshot)"
   ]
  },
  {
   "cell_type": "markdown",
   "id": "ce554d0a-d187-492f-acae-630e266640c6",
   "metadata": {},
   "source": [
    "## Configuring the MPCD integrator"
   ]
  },
  {
   "cell_type": "markdown",
   "id": "7f88fbe3-d8d0-4aa6-b8d4-91cd8727de1f",
   "metadata": {},
   "source": [
    "We will setup an integrator for the MPCD particles that uses the SRD collision\n",
    "rule with collision time $\\Delta t = 0.1$, collision angle $\\alpha =\n",
    "130^\\circ$, and a thermostat to maintain constant temperature. First, we create\n",
    "the MPCD integrator with timestep $\\Delta t$, and we attach an SRD collision\n",
    "method to it that occurs every timestep."
   ]
  },
  {
   "cell_type": "code",
   "execution_count": 7,
   "id": "6f25d21e-a493-4aca-a864-05e5279e2b2e",
   "metadata": {},
   "outputs": [],
   "source": [
    "integrator = hoomd.mpcd.Integrator(dt=0.1)\n",
    "integrator.collision_method = hoomd.mpcd.collide.StochasticRotationDynamics(\n",
    "    period=1, angle=130, kT=kT)"
   ]
  },
  {
   "cell_type": "markdown",
   "id": "1bb06041-9cc4-4fe8-a601-500838a5b78e",
   "metadata": {},
   "source": [
    "Next, we setup the streaming method. The streaming method will use bounce back\n",
    "integration between parallel plates, which is defined by a geometry."
   ]
  },
  {
   "cell_type": "code",
   "execution_count": 8,
   "id": "a95b94dc",
   "metadata": {},
   "outputs": [],
   "source": [
    "plates = hoomd.mpcd.geometry.ParallelPlates(separation=2*H, speed=0.0, no_slip=True)"
   ]
  },
  {
   "cell_type": "markdown",
   "id": "d6d8a75e",
   "metadata": {},
   "source": [
    "The streaming method will also apply a constant force $f_x$ in the $x$ direction\n",
    "to create a flow. For pressure-driven flow between parallel plates, the\n",
    "expected velocity field has the parabolic form\n",
    "$$\n",
    "v_x(y) = \\frac{\\rho f_x H^2}{2 \\mu}\\left[1 - \\left(\\frac{y}{H}\\right)^2 \\right]\n",
    "$$\n",
    "where $\\mu = 3.96$ is the dynamic viscosity of the MPCD solvent for the chosen\n",
    "parameters. We will use a force $f_x = 0.004$ to give a theoretically predicted maximum\n",
    "velocity of 0.25."
   ]
  },
  {
   "cell_type": "code",
   "execution_count": 9,
   "id": "0c08e3eb-f8d8-4293-bf25-771f4c94417f",
   "metadata": {},
   "outputs": [],
   "source": [
    "fx = 0.004\n",
    "body_force = hoomd.mpcd.force.ConstantForce(force=(fx, 0, 0))"
   ]
  },
  {
   "cell_type": "markdown",
   "id": "5a54cb9a",
   "metadata": {},
   "source": [
    "We combine all these together to make the streaming method. We stream and\n",
    "collide with the same period because a constant force is easily integrated using\n",
    "the velocity Verlet method, and better performance is usually achieved when\n",
    "fewer streaming steps are needed."
   ]
  },
  {
   "cell_type": "code",
   "execution_count": 10,
   "id": "a8fb9abe",
   "metadata": {},
   "outputs": [],
   "source": [
    "integrator.streaming_method = hoomd.mpcd.stream.BounceBack(\n",
    "    period=1,\n",
    "    geometry=plates,\n",
    "    mpcd_particle_force=body_force\n",
    ")"
   ]
  },
  {
   "cell_type": "markdown",
   "id": "4795e473-4926-401f-af8e-0dcf03cb3cc5",
   "metadata": {},
   "source": [
    "A virtual particle filler is also needed to ensure the collision method functions\n",
    "correctly with the bounce-back geometry. We can attach one to the integrator\n",
    "using the same `plates` geometry we defined above."
   ]
  },
  {
   "cell_type": "code",
   "execution_count": 11,
   "id": "bb2abade-3350-4d6b-ac03-68bc1e2f7ab1",
   "metadata": {},
   "outputs": [],
   "source": [
    "filler = hoomd.mpcd.fill.GeometryFiller(\n",
    "    type=\"A\", density=density, kT=kT, geometry=plates)\n",
    "integrator.virtual_particle_fillers.append(filler)"
   ]
  },
  {
   "cell_type": "markdown",
   "id": "8762f036-a124-4e2d-a249-f8a55213503a",
   "metadata": {},
   "source": [
    "The performance of MPCD simulations benefits from periodically sorting the\n",
    "particles into cell order. It is recommended to attach a tuner to the integrator\n",
    "to do this. The optimal number of collision steps between sorting varies based\n",
    "on the simulation and your computing hardware, but typically tens of collisions\n",
    "works well."
   ]
  },
  {
   "cell_type": "code",
   "execution_count": 12,
   "id": "38c77e60-1c5e-4425-8031-f6e760d31bcd",
   "metadata": {},
   "outputs": [],
   "source": [
    "integrator.solvent_sorter = hoomd.mpcd.tune.ParticleSorter(trigger=20)"
   ]
  },
  {
   "cell_type": "markdown",
   "id": "c7f343db-c5f6-41c1-8408-56bd417df7c7",
   "metadata": {},
   "source": [
    "Last, don't forget to attach the integrator to the simulation operations!"
   ]
  },
  {
   "cell_type": "code",
   "execution_count": 13,
   "id": "7143f31a-43c6-4a12-bbb9-2c9a409b0391",
   "metadata": {},
   "outputs": [],
   "source": [
    "simulation.operations.integrator = integrator"
   ]
  },
  {
   "cell_type": "markdown",
   "id": "0038dc3a-3016-4f68-a173-8dbd049c6c5a",
   "metadata": {},
   "source": [
    "## Run simulation"
   ]
  },
  {
   "cell_type": "markdown",
   "id": "ab595f49-023f-4e5f-ad42-eb7920c90da4",
   "metadata": {},
   "source": [
    "Now that the simulation is configured, we will first run a warmup period to\n",
    "allow the system to come to steady state."
   ]
  },
  {
   "cell_type": "code",
   "execution_count": 14,
   "id": "472c9ae6-dd55-4774-89b3-b4c200e480d4",
   "metadata": {},
   "outputs": [],
   "source": [
    "simulation.run(10000)"
   ]
  },
  {
   "cell_type": "markdown",
   "id": "734319b7-0b74-40ae-86ed-77dde54dcc51",
   "metadata": {},
   "source": [
    "After reaching steady state, we can measure $v_x(y)$ using histogramming. We use bin spacing 0.1."
   ]
  },
  {
   "cell_type": "code",
   "execution_count": 15,
   "id": "6d8ec103-24ae-414c-a89d-52d6349b6e3a",
   "metadata": {},
   "outputs": [],
   "source": [
    "bin_size = 0.2\n",
    "num_bins = int(2 * H / bin_size)\n",
    "bin_edges = numpy.linspace(-H, H, num_bins + 1)\n",
    "bin_centers = 0.5 * (bin_edges[:-1] + bin_edges[1:])\n",
    "\n",
    "num_samples = 0\n",
    "counts = numpy.zeros(num_bins, dtype=int)\n",
    "total_velocity = numpy.zeros(num_bins, dtype=float)"
   ]
  },
  {
   "cell_type": "markdown",
   "id": "f11f3b6f-3563-449e-b331-f3b8e71df64d",
   "metadata": {},
   "source": [
    "Then, we run the simulation long enough to get enough independent samples with\n",
    "good statistics."
   ]
  },
  {
   "cell_type": "code",
   "execution_count": 16,
   "id": "050c5581-6a5b-4691-8653-cf7bba601f62",
   "metadata": {},
   "outputs": [],
   "source": [
    "for i in range(500):\n",
    "    simulation.run(100)\n",
    "\n",
    "    # take a snapshot of the system\n",
    "    snap = simulation.state.get_snapshot()\n",
    "    y = snap.mpcd.position[:, 1]\n",
    "    v_x = snap.mpcd.velocity[:,0]\n",
    "\n",
    "    # bin x-velocity using the y-position, and accumulate histograms\n",
    "    y_bins = numpy.digitize(y, bin_edges) - 1\n",
    "    counts += numpy.bincount(y_bins, minlength=num_bins)\n",
    "    total_velocity += numpy.bincount(y_bins, weights=v_x, minlength=num_bins)\n",
    "    num_samples += 1\n",
    "\n",
    "average_velocity = numpy.zeros(num_bins, dtype=float)\n",
    "numpy.divide(total_velocity, counts, out=average_velocity, where=(counts > 0));"
   ]
  },
  {
   "cell_type": "markdown",
   "id": "a6340a24-42bf-40c3-8678-f25fd088447b",
   "metadata": {},
   "source": [
    "Now, we plot our results for the average velocity profile and compare it to\n",
    "the theoretical expectation. We see that the agreement is generally good, but\n",
    "there is a small amount of slip near the walls. This is typical of MPCD\n",
    "simulations."
   ]
  },
  {
   "cell_type": "code",
   "execution_count": 17,
   "id": "47670300-bd79-4e9c-af9b-23fd88769243",
   "metadata": {},
   "outputs": [
    {
     "data": {
      "image/png": "[encoded data removed]",
      "text/plain": [
       "<Figure size 640x480 with 1 Axes>"
      ]
     },
     "metadata": {},
     "output_type": "display_data"
    }
   ],
   "source": [
    "plt.plot(bin_centers, average_velocity, label=\"simulated\")\n",
    "\n",
    "viscosity = 3.96\n",
    "vx_theory = ((density * fx * H**2) / (2*viscosity)) * (1 - (bin_centers/H)**2)\n",
    "plt.plot(bin_centers, vx_theory, ls=\"--\", label=\"expected\")\n",
    "\n",
    "plt.xlabel(r\"$y$\")\n",
    "plt.xlim([-H, H])\n",
    "plt.ylabel(r\"$v_x$\")\n",
    "plt.ylim([0.0, 0.3])\n",
    "plt.legend();"
   ]
  }
 ],
 "metadata": {
  "kernelspec": {
   "display_name": "Python 3 (ipykernel)",
   "language": "python",
   "name": "python3"
  },
  "language_info": {
   "codemirror_mode": {
    "name": "ipython",
    "version": 3
   },
   "file_extension": ".py",
   "mimetype": "text/x-python",
   "name": "python",
   "nbconvert_exporter": "python",
   "pygments_lexer": "ipython3",
   "version": "3.1.-1"
  }
 },
 "nbformat": 4,
 "nbformat_minor": 5
}
