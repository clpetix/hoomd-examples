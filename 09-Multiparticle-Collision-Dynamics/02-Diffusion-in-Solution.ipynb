{
 "cells": [
  {
   "cell_type": "markdown",
   "metadata": {},
   "source": [
    "# Diffusion of a Solution of Nearly-Hard Spheres"
   ]
  },
  {
   "cell_type": "markdown",
   "metadata": {},
   "source": [
    "## Overview"
   ]
  },
  {
   "cell_type": "markdown",
   "metadata": {},
   "source": [
    "### Questions"
   ]
  },
  {
   "cell_type": "markdown",
   "metadata": {},
   "source": [
    "* How do I set up a simulation of of MD particles (solutes) in MPCD particles\n",
    "  (solvent)?"
   ]
  },
  {
   "cell_type": "markdown",
   "metadata": {},
   "source": [
    "### Objectives"
   ]
  },
  {
   "cell_type": "markdown",
   "metadata": {},
   "source": [
    "* Demonstrate how to add MPCD particles to an existing MD particle **Snapshot**\n",
    "  or GSD file.\n",
    "* Show how to couple MD particles to MPCD particles through the **CollisionMethod**."
   ]
  },
  {
   "cell_type": "markdown",
   "metadata": {},
   "source": [
    "## Boilerplate Code"
   ]
  },
  {
   "cell_type": "code",
   "execution_count": 2,
   "metadata": {},
   "outputs": [],
   "source": [
    "import itertools\n",
    "\n",
    "import freud\n",
    "import gsd.hoomd\n",
    "import hoomd\n",
    "import matplotlib.pyplot as plt\n",
    "import numpy"
   ]
  },
  {
   "cell_type": "markdown",
   "metadata": {},
   "source": [
    "## Initialization"
   ]
  },
  {
   "cell_type": "markdown",
   "metadata": {},
   "source": [
    "We would like to couple MD particles that interact as nearly-hard spheres\n",
    "to MPCD particles in order to introduce approximate hydrodynamic\n",
    "interactions between them. We will start with a configuration of MD particles\n",
    "that we prepare using the `Snapshot` interface and store in a GSD file (Tutorial: [Initializing the System State](../00-Introducing-HOOMD-blue/03-Initializing-the-System-State.ipynb)).\n",
    "We will use the configuration we make and save to continue in the tutorial!"
   ]
  },
  {
   "cell_type": "markdown",
   "metadata": {},
   "source": [
    "First, we place $N = \\rho V$ solute particles randomly on a lattice in a `Snapshot` box."
   ]
  },
  {
   "cell_type": "code",
   "execution_count": 3,
   "metadata": {},
   "outputs": [],
   "source": [
    "solute_density = 0.2\n",
    "mpcd_density = 5\n",
    "L = 20\n",
    "kT = 1.0\n",
    "\n",
    "snap = gsd.hoomd.Frame()\n",
    "rng = numpy.random.default_rng(seed=42)\n",
    "\n",
    "snap.configuration.box = [L, L, L, 0, 0, 0]\n",
    "\n",
    "snap.particles.N = numpy.round(solute_density * L**3).astype(int)\n",
    "snap.particles.types = [\"A\"]\n",
    "snap.particles.typeid = numpy.zeros(snap.particles.N, dtype=int)\n",
    "solute_spacing = 1.2\n",
    "cells = numpy.linspace(\n",
    "    -L / 2, L / 2, numpy.floor(L / solute_spacing).astype(int), endpoint=False\n",
    ")\n",
    "lattice = numpy.array(list(itertools.product(cells, repeat=3)))\n",
    "chosen_lattice_sites = rng.choice(\n",
    "    a=lattice.shape[0], size=snap.particles.N, replace=False\n",
    ")\n",
    "snap.particles.position = numpy.take(lattice, chosen_lattice_sites, axis=0)"
   ]
  },
  {
   "cell_type": "markdown",
   "metadata": {},
   "source": [
    "MD particles are usually heavier than the MPCD particles, and here we're setting them to have mass equal to the mass of MPCD particles in a collision cell because they are roughly the same size."
   ]
  },
  {
   "cell_type": "code",
   "execution_count": 4,
   "metadata": {},
   "outputs": [],
   "source": [
    "snap.particles.mass = numpy.full(snap.particles.N, mpcd_density)"
   ]
  },
  {
   "cell_type": "markdown",
   "metadata": {},
   "source": [
    "We randomly draw velocities to be consistent with the Maxwell-Boltzmann distribution\n",
    "for $k_{\\rm B} T = 1$ and their mass, and we force them to have zero mean. We save this `Snapshot` to a GSD file `init.gsd`. "
   ]
  },
  {
   "cell_type": "code",
   "execution_count": 5,
   "metadata": {},
   "outputs": [],
   "source": [
    "vel = rng.normal(\n",
    "    loc=0.0, scale=numpy.sqrt(1.0 / mpcd_density), size=(snap.particles.N, 3)\n",
    ")\n",
    "vel -= numpy.mean(vel, axis=0)\n",
    "snap.particles.velocity = vel\n",
    "\n",
    "with gsd.hoomd.open(name='init.gsd', mode='w') as f:\n",
    "    f.append(snap)"
   ]
  },
  {
   "cell_type": "markdown",
   "metadata": {},
   "source": [
    "We create a `Snapshot` from the GSD file `init.gsd`. This file contains\n",
    "all the necessary information about the simulation box and MD particles, but\n",
    "GSD files do not currently store MPCD particle data. So, the `Snapshot` does\n",
    "not initially have any MPCD particles in it."
   ]
  },
  {
   "cell_type": "code",
   "execution_count": 6,
   "metadata": {},
   "outputs": [],
   "source": [
    "with gsd.hoomd.open('init.gsd') as traj:\n",
    "    snapshot = hoomd.Snapshot().from_gsd_frame(\n",
    "        traj[0], hoomd.communicator.Communicator()\n",
    "    )"
   ]
  },
  {
   "cell_type": "markdown",
   "metadata": {},
   "source": [
    "Now, we will add the MPCD particles to the box at a number density of\n",
    "$\\rho = 5$. This will be a bulk simulation, so the MPCD particles\n",
    "should fill the box volume *V*. Hence, the number of MPCD particles to add\n",
    "is $N = \\rho V$. We do this at random as in the\n",
    "[pressure-driven flow](01-Pressure-Driven-Flow.ipynb) tutorial, assuming an\n",
    "orthorhombic box."
   ]
  },
  {
   "cell_type": "code",
   "execution_count": 7,
   "metadata": {},
   "outputs": [],
   "source": [
    "box = hoomd.Box.from_box(snapshot.configuration.box)\n",
    "rng = numpy.random.default_rng(seed=42)\n",
    "\n",
    "snapshot.mpcd.types = [\"A\"]\n",
    "snapshot.mpcd.N = numpy.round(mpcd_density * box.volume).astype(int)\n",
    "snapshot.mpcd.position[:] = box.L * rng.uniform(low=-0.5,\n",
    "                                                high=0.5,\n",
    "                                                size=(snapshot.mpcd.N, 3)\n",
    "                                                )\n",
    "\n",
    "vel = rng.normal(loc=0.0, scale=numpy.sqrt(kT), size=(snapshot.mpcd.N, 3))\n",
    "vel -= numpy.mean(vel, axis=0)\n",
    "snapshot.mpcd.velocity[:] = vel"
   ]
  },
  {
   "cell_type": "markdown",
   "metadata": {},
   "source": [
    "We assume that the MD particles already have zero center-of-mass velocity, but\n",
    "if they don't, this should be corrected too.\n",
    "\n",
    "The `Snapshot` is now fully initialized, so we can use it to create a\n",
    "`Simulation`."
   ]
  },
  {
   "cell_type": "code",
   "execution_count": 8,
   "metadata": {},
   "outputs": [],
   "source": [
    "sim = hoomd.Simulation(device=hoomd.device.CPU(), seed=1)\n",
    "sim.create_state_from_snapshot(snapshot)"
   ]
  },
  {
   "cell_type": "markdown",
   "metadata": {},
   "source": [
    "## Configuring the MPCD integrator"
   ]
  },
  {
   "cell_type": "markdown",
   "metadata": {},
   "source": [
    "First, we initialize the MPCD `Integrator` using the timestep that we would\n",
    "normally use for an MD simulation because this timestep is shorter than the\n",
    "MPCD collision time. The MD integration timestep and MPCD collision time need\n",
    "to be multiples of each other."
   ]
  },
  {
   "cell_type": "code",
   "execution_count": 9,
   "metadata": {},
   "outputs": [],
   "source": [
    "integrator = hoomd.mpcd.Integrator(dt=0.005)\n",
    "sim.operations.integrator = integrator"
   ]
  },
  {
   "cell_type": "markdown",
   "metadata": {},
   "source": [
    "We will now perform the usual setup for an MD simulation, then configure\n",
    "an MPCD simulation using the SRD collision method."
   ]
  },
  {
   "cell_type": "markdown",
   "metadata": {},
   "source": [
    "### MD integration method"
   ]
  },
  {
   "cell_type": "markdown",
   "metadata": {},
   "source": [
    "We will define the interactions between MD particles as the repulsive Weeks-Chandler-Andersen (WCA) potential. These are attached to the integrator in the normal way."
   ]
  },
  {
   "cell_type": "code",
   "execution_count": 10,
   "metadata": {},
   "outputs": [],
   "source": [
    "cell = hoomd.md.nlist.Cell(buffer=0.4)\n",
    "wca = hoomd.md.pair.LJ(nlist=cell)\n",
    "wca.params[(\"A\", \"A\")] = dict(epsilon=1, sigma=1)\n",
    "wca.r_cut[(\"A\", \"A\")] = 2 ** (1.0 / 6.0)\n",
    "integrator.forces.append(wca)"
   ]
  },
  {
   "cell_type": "markdown",
   "metadata": {},
   "source": [
    "We will use a `ConstantVolume` (NVE) integration method for the MD particles.\n",
    "This integration method is usually recommended for MD particles\n",
    "that are coupled to MPCD particles because the MPCD particles will act like a\n",
    "temperature bath."
   ]
  },
  {
   "cell_type": "code",
   "execution_count": 11,
   "metadata": {},
   "outputs": [],
   "source": [
    "nve = hoomd.md.methods.ConstantVolume(filter=hoomd.filter.All())\n",
    "integrator.methods.append(nve)"
   ]
  },
  {
   "cell_type": "markdown",
   "metadata": {},
   "source": [
    "### MPCD methods"
   ]
  },
  {
   "cell_type": "markdown",
   "metadata": {},
   "source": [
    "We will now setup the SRD collision method for the MPCD particles using\n",
    "collision time $\\Delta t = 0.1$, collision angle $\\alpha = 130^\\circ$, and a\n",
    "thermostat to maintain constant temperature, which is the same setup\n",
    "as we used in the [pressure-driven flow tutorial](01-Pressure-Driven-Flow.ipynb).\n",
    "\n",
    "The main difference for the collision method is that the `period` is now longer\n",
    "because there are 20 MD timesteps per collision time. The solvent sorting period\n",
    "should be similar extended, and here we use every 20 collisions."
   ]
  },
  {
   "cell_type": "code",
   "execution_count": 12,
   "metadata": {},
   "outputs": [],
   "source": [
    "integrator.collision_method = hoomd.mpcd.collide.StochasticRotationDynamics(\n",
    "    period=20, angle=130, kT=1.0, embedded_particles=hoomd.filter.All()\n",
    ")\n",
    "integrator.solvent_sorter = hoomd.mpcd.tune.ParticleSorter(trigger=20 * 20)"
   ]
  },
  {
   "cell_type": "markdown",
   "metadata": {},
   "source": [
    "The streaming method is now much simpler because there is no confining geometry.\n",
    "Streaming is also performed every 20 collision steps because the particles move\n",
    "with constant velocity between collisions. Note that this means that\n",
    "the MD particles and MPCD particles will appear to be \"out of sync\" if a\n",
    "`Snapshot` is taken at a timestep that is not a multiple of the streaming period."
   ]
  },
  {
   "cell_type": "code",
   "execution_count": 13,
   "metadata": {},
   "outputs": [],
   "source": [
    "integrator.streaming_method = hoomd.mpcd.stream.Bulk(period=20)"
   ]
  },
  {
   "cell_type": "markdown",
   "metadata": {},
   "source": [
    "## Run simulation"
   ]
  },
  {
   "cell_type": "markdown",
   "metadata": {},
   "source": [
    "Now that the simulation is configured, we will we run a short simulation to\n",
    "write the MD particles trajectories to a GSD file. We will save the MD particles\n",
    "every 2000 steps, which is every 10 time units."
   ]
  },
  {
   "cell_type": "code",
   "execution_count": 14,
   "metadata": {},
   "outputs": [],
   "source": [
    "dump = hoomd.write.GSD(\n",
    "    trigger=2000,\n",
    "    filename=\"monomers.gsd\",\n",
    "    dynamic=[\"particles/position\", \"particles/image\"],\n",
    ")\n",
    "sim.operations.writers.append(dump)\n",
    "sim.run(200000, write_at_start=True)\n",
    "dump.flush()"
   ]
  },
  {
   "cell_type": "markdown",
   "metadata": {},
   "source": [
    "## Analysis\n",
    "\n",
    "This trajectory can be used to compute the mean squared displacement of the MD\n",
    "particles. First we read in the trajectory and unwrap the particle positions using freud."
   ]
  },
  {
   "cell_type": "code",
   "execution_count": 15,
   "metadata": {},
   "outputs": [],
   "source": [
    "with gsd.hoomd.open(\"monomers.gsd\") as traj:\n",
    "    num_frames = len(traj)\n",
    "    N = traj[0].particles.N\n",
    "    positions = numpy.zeros((num_frames, N, 3), dtype=float)\n",
    "    timesteps = numpy.zeros(num_frames, dtype=int)\n",
    "    for i, snap in enumerate(traj):\n",
    "        box = freud.box.Box.from_box(snap.configuration.box)\n",
    "        positions[i] = box.unwrap(snap.particles.position, snap.particles.image)\n",
    "        timesteps[i] = snap.configuration.step\n",
    "    spacing = timesteps[1] - timesteps[0]"
   ]
  },
  {
   "cell_type": "markdown",
   "metadata": {},
   "source": [
    "Now we calculate the mean squared displacement of each particle over 10 frames\n",
    "(100 time units) using all frames as time origins to improve statistics."
   ]
  },
  {
   "cell_type": "code",
   "execution_count": 26,
   "metadata": {},
   "outputs": [],
   "source": [
    "window = 10\n",
    "t = (integrator.dt * spacing) * numpy.arange(window + 1)\n",
    "msd = numpy.zeros(window + 1, dtype=float)\n",
    "counts = numpy.zeros(window + 1, dtype=int)\n",
    "for t0 in range(num_frames):\n",
    "    t1 = min(t0 + window + 1, num_frames)\n",
    "    dt = t1 - t0\n",
    "    dr = positions[t0 + 1 : t1] - positions[t0]\n",
    "    msd[1:dt] += numpy.mean(numpy.sum(dr * dr, axis=2), axis=1)\n",
    "    counts[1:dt] += 1\n",
    "numpy.divide(msd, counts, out=msd, where=(counts > 0));"
   ]
  },
  {
   "cell_type": "markdown",
   "metadata": {},
   "source": [
    "Finally, we can plot the mean squared displacement! "
   ]
  },
  {
   "cell_type": "code",
   "execution_count": 25,
   "metadata": {},
   "outputs": [
    {
     "data": {
      "image/png": "[encoded data removed]",
      "text/plain": [
       "<Figure size 640x480 with 1 Axes>"
      ]
     },
     "metadata": {},
     "output_type": "display_data"
    }
   ],
   "source": [
    "plt.plot(t, msd, label=\"simulated\")\n",
    "plt.xlabel(r\"$t$\")\n",
    "plt.xlim([0,100])\n",
    "plt.ylabel(r\"$\\langle \\Delta r^2 \\rangle$\")\n",
    "plt.ylim([0,25]);"
   ]
  }
 ],
 "metadata": {
  "language_info": {
   "codemirror_mode": {
    "name": "ipython",
    "version": 3
   },
   "file_extension": ".py",
   "mimetype": "text/x-python",
   "name": "python",
   "nbconvert_exporter": "python",
   "pygments_lexer": "ipython3",
   "version": "3.12.3"
  }
 },
 "nbformat": 4,
 "nbformat_minor": 4
}
