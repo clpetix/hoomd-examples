{
 "cells": [
  {
   "cell_type": "markdown",
   "metadata": {},
   "source": [
    "# Introducing Multiparticle Collison Dynamics\n",
    "\n",
    "This tutorial introduces how to use the multiparticle collision dynamics (MPCD)\n",
    "method in HOOMD-blue with examples of pressure-driven flow and diffusion of a\n",
    "solution of nearly-hard particles.\n",
    "\n",
    "**Prerequisites:**\n",
    "\n",
    "This tutorial assumes you are familiar with molecular dynamics (MD) (see\n",
    "[Introducing Molecular Dynamics](../01-Introducing-Molecular-Dynamics/00-index.ipynb))\n",
    "and have background knowledge on MPCD. To learn more about MPCD, consider\n",
    "reading one of the following review articles:\n",
    "\n",
    "* [Modeling hydrodynamic interactions in soft materials with multiparticle collision dynamics](https://doi.org/10.1016/j.coche.2019.02.007)\n",
    "* [Multi-Particle Collision Dynamics: A Particle-Based Mesoscale Simulation Approach to the Hydrodynamics of Complex Fluids](https://doi.org/10.1007/978-3-540-87706-6_1)\n",
    "* [Multiparticle Collision Dynamics: Simulation of Complex Systems on Mesoscales](https://doi.org/10.1002/9780470371572.ch2)"
   ]
  },
  {
   "cell_type": "markdown",
   "metadata": {
    "nbsphinx-toctree": {
     "maxdepth": 1
    }
   },
   "source": [
    "## Outline\n",
    "\n",
    "1. [Pressure-Driven Flow Between Parallel Plates](01-Pressure-Driven-Flow.ipynb)\n",
    "2. [Diffusion of a Solution of Nearly-Hard Spheres](02-Diffusion-in-Solution.ipynb)\n",
    "\n"
   ]
  },
  {
   "cell_type": "markdown",
   "metadata": {},
   "source": [
    "This tutorial is written with [jupyter](https://jupyter.org/). You can download the source from the [hoomd-examples](https://github.com/glotzerlab/hoomd-examples) repository."
   ]
  }
 ],
 "metadata": {
  "language_info": {
   "codemirror_mode": {
    "name": "ipython",
    "version": 3
   },
   "file_extension": ".py",
   "mimetype": "text/x-python",
   "name": "python",
   "nbconvert_exporter": "python",
   "pygments_lexer": "ipython3",
   "version": "3.12.2"
  },
  "record_timing": false
 },
 "nbformat": 4,
 "nbformat_minor": 4
}
